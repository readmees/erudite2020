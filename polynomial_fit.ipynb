{
 "cells": [
  {
   "cell_type": "markdown",
   "metadata": {},
   "source": [
    "# Import and preprocces data\n",
    "To run this file you can press on 'Cell' and then on 'Run Cells'. You'll be asked multiple times to give input, this way you'll be able use the data in multiple ways. If you have more data in the future, you can add them in the same directory as the one with the Automonous Greenhouse Challenge teams. You can add new data by making a new directory. This directory needs to contain five csv files: Greenhouse_climate.csv, CropManagement.csv, Irrigation.csv, Production.csv and vip.csv. To run this specific code it's usefull to have the same features as the ones of the greenhouse challenge (see their ReedMe.pdf)."
   ]
  },
  {
   "cell_type": "code",
   "execution_count": 29,
   "metadata": {},
   "outputs": [],
   "source": [
    "import pandas as pd\n",
    "import numpy as np\n",
    "import matplotlib.pyplot as plt\n",
    "from scipy.optimize import minimize as minimize\n",
    "import os"
   ]
  },
  {
   "cell_type": "code",
   "execution_count": 30,
   "metadata": {},
   "outputs": [],
   "source": [
    "FileNotFound = True\n",
    "while FileNotFound:\n",
    "    try:\n",
    "#         directory = input(\"\"\"Please add the directory you're data is in. \n",
    "#         If you're using our original provided files this should be 'data'\\n\"\"\") #TODO uncomment dit\n",
    "        directory = 'data' #TODO comment dit\n",
    "        datasets = [filename for filename in os.listdir(directory)]\n",
    "        FileNotFound = False\n",
    "    except FileNotFoundError:\n",
    "        print(\"Please add a valid directory\")\n",
    "        FileNotFound = True\n",
    "\n"
   ]
  },
  {
   "cell_type": "code",
   "execution_count": 46,
   "metadata": {},
   "outputs": [],
   "source": [
    "data = {}\n",
    "for dataset in datasets:\n",
    "    GHClim = pd.read_csv(f\"data/{dataset}/Greenhouse_climate.csv\") \n",
    "    Crop = pd.read_csv(f\"data/{dataset}/CropManagement.csv\") \n",
    "    irri = pd.read_csv(f\"data/{dataset}/Irrigation.csv\") \n",
    "    prod = pd.read_csv(f\"data/{dataset}/Production.csv\") \n",
    "    vip = pd.read_csv(f\"data/{dataset}/vip.csv\") \n",
    "    GHClim = GHClim.drop(['VentLee', 'Ventwind', 'AssimLight', 'BlackScr', 'EnScr'], axis=1)\n",
    "    \n",
    "    GHClim.fillna(method='ffill', inplace=True)\n",
    "    Crop.fillna(method='ffill', inplace=True)\n",
    "    irri.fillna(method='ffill', inplace=True)\n",
    "    prod.fillna(method='ffill', inplace=True)\n",
    "    vip.fillna(method='ffill', inplace=True)\n",
    "    \n",
    "    # If the first column is/columns are NaN\n",
    "    GHClim.fillna(method='bfill', inplace=True)\n",
    "    Crop.fillna(method='bfill', inplace=True)\n",
    "    irri.fillna(method='bfill', inplace=True)\n",
    "    prod.fillna(method='bfill', inplace=True)\n",
    "    vip.fillna(method='bfill', inplace=True)\n",
    "    data[dataset] = {'GHClim':GHClim, 'Crop':Crop, 'irri':irri, 'prod':prod, 'vip':vip}"
   ]
  },
  {
   "cell_type": "markdown",
   "metadata": {},
   "source": [
    "# Data visualization\n",
    "Lets show how the features change with time."
   ]
  },
  {
   "cell_type": "code",
   "execution_count": 50,
   "metadata": {},
   "outputs": [
    {
     "name": "stderr",
     "output_type": "stream",
     "text": [
      "/home/meester/anaconda3/lib/python3.7/site-packages/IPython/core/interactiveshell.py:3326: RankWarning: Polyfit may be poorly conditioned\n",
      "  exec(code_obj, self.user_global_ns, self.user_ns)\n"
     ]
    },
    {
     "ename": "ValueError",
     "evalue": "too many values to unpack (expected 2)",
     "output_type": "error",
     "traceback": [
      "\u001b[0;31m---------------------------------------------------------------------------\u001b[0m",
      "\u001b[0;31mValueError\u001b[0m                                Traceback (most recent call last)",
      "\u001b[0;32m<ipython-input-50-9a88f4d11dd6>\u001b[0m in \u001b[0;36m<module>\u001b[0;34m\u001b[0m\n\u001b[1;32m      3\u001b[0m \u001b[0;32mfor\u001b[0m \u001b[0mdataset\u001b[0m \u001b[0;32min\u001b[0m \u001b[0mdatasets\u001b[0m\u001b[0;34m:\u001b[0m\u001b[0;34m\u001b[0m\u001b[0;34m\u001b[0m\u001b[0m\n\u001b[1;32m      4\u001b[0m     \u001b[0mx\u001b[0m\u001b[0;34m,\u001b[0m \u001b[0my\u001b[0m \u001b[0;34m=\u001b[0m \u001b[0mdata\u001b[0m\u001b[0;34m[\u001b[0m\u001b[0mdataset\u001b[0m\u001b[0;34m]\u001b[0m\u001b[0;34m[\u001b[0m\u001b[0;34m'GHClim'\u001b[0m\u001b[0;34m]\u001b[0m\u001b[0;34m[\u001b[0m\u001b[0;34m'GHtime'\u001b[0m\u001b[0;34m]\u001b[0m\u001b[0;34m,\u001b[0m \u001b[0mdata\u001b[0m\u001b[0;34m[\u001b[0m\u001b[0mdataset\u001b[0m\u001b[0;34m]\u001b[0m\u001b[0;34m[\u001b[0m\u001b[0;34m'GHClim'\u001b[0m\u001b[0;34m]\u001b[0m\u001b[0;34m[\u001b[0m\u001b[0;34m'HumDef'\u001b[0m\u001b[0;34m]\u001b[0m\u001b[0;34m\u001b[0m\u001b[0;34m\u001b[0m\u001b[0m\n\u001b[0;32m----> 5\u001b[0;31m     \u001b[0ma\u001b[0m\u001b[0;34m,\u001b[0m\u001b[0mb\u001b[0m \u001b[0;34m=\u001b[0m \u001b[0mnp\u001b[0m\u001b[0;34m.\u001b[0m\u001b[0mpolyfit\u001b[0m\u001b[0;34m(\u001b[0m\u001b[0mx\u001b[0m\u001b[0;34m,\u001b[0m\u001b[0my\u001b[0m\u001b[0;34m,\u001b[0m\u001b[0;36m4\u001b[0m\u001b[0;34m)\u001b[0m\u001b[0;34m\u001b[0m\u001b[0;34m\u001b[0m\u001b[0m\n\u001b[0m\u001b[1;32m      6\u001b[0m     \u001b[0mx_trend\u001b[0m \u001b[0;34m=\u001b[0m \u001b[0mnp\u001b[0m\u001b[0;34m.\u001b[0m\u001b[0mlinspace\u001b[0m\u001b[0;34m(\u001b[0m\u001b[0mmin\u001b[0m\u001b[0;34m(\u001b[0m\u001b[0mx\u001b[0m\u001b[0;34m)\u001b[0m\u001b[0;34m,\u001b[0m \u001b[0mmax\u001b[0m\u001b[0;34m(\u001b[0m\u001b[0mx\u001b[0m\u001b[0;34m)\u001b[0m\u001b[0;34m,\u001b[0m \u001b[0;36m100\u001b[0m\u001b[0;34m)\u001b[0m\u001b[0;34m\u001b[0m\u001b[0;34m\u001b[0m\u001b[0m\n\u001b[1;32m      7\u001b[0m     \u001b[0mplt\u001b[0m\u001b[0;34m.\u001b[0m\u001b[0mplot\u001b[0m\u001b[0;34m(\u001b[0m\u001b[0mx\u001b[0m\u001b[0;34m,\u001b[0m \u001b[0my\u001b[0m\u001b[0;34m,\u001b[0m \u001b[0;34m'.'\u001b[0m\u001b[0;34m,\u001b[0m \u001b[0mx_trend\u001b[0m\u001b[0;34m,\u001b[0m \u001b[0mx_trend\u001b[0m\u001b[0;34m*\u001b[0m\u001b[0ma\u001b[0m\u001b[0;34m+\u001b[0m\u001b[0mb\u001b[0m\u001b[0;34m,\u001b[0m \u001b[0mlabel\u001b[0m\u001b[0;34m=\u001b[0m\u001b[0mdataset\u001b[0m\u001b[0;34m)\u001b[0m\u001b[0;34m\u001b[0m\u001b[0;34m\u001b[0m\u001b[0m\n",
      "\u001b[0;31mValueError\u001b[0m: too many values to unpack (expected 2)"
     ]
    },
    {
     "data": {
      "image/png": "[encoded data removed]",
      "text/plain": [
       "<Figure size 432x288 with 1 Axes>"
      ]
     },
     "metadata": {
      "needs_background": "light"
     },
     "output_type": "display_data"
    }
   ],
   "source": [
    "# With 33133 timestamps of 5 minutes\n",
    "plt.title('Humidity deficit with 33133 timestamps of 5 minutes for every dataset')\n",
    "for dataset in datasets:\n",
    "    x, y = data[dataset]['GHClim']['GHtime'], data[dataset]['GHClim']['HumDef']\n",
    "    a,b = np.polyfit(x,y,4)\n",
    "    x_trend = np.linspace(min(x), max(x), 100)\n",
    "    plt.plot(x, y, '.', x_trend, x_trend*a+b, label=dataset)\n",
    "    plt.plot()\n",
    "plt.xlabel('Timestamp every 5 minutes')\n",
    "plt.ylabel('Humidity deficit in g/m3')\n",
    "plt.legend()\n",
    "plt.show()\n",
    "\n",
    "# Every week sample\n",
    "plt.title('Humidity deficit sample every week for every dataset')\n",
    "for dataset in datasets:\n",
    "    plt.plot(np.arange(16), data[dataset]['GHClim']['HumDef'][::2016][1:], '.', label=dataset)\n",
    "plt.xlabel('Week')\n",
    "plt.ylabel('Humidity deficit in g/m3')\n",
    "plt.legend()\n",
    "plt.show()\n",
    "\n",
    "# Every week average\n",
    "plt.title('Humidity deficit average every week for every dataset')\n",
    "for dataset in datasets:\n",
    "    weekly_HumDef = []\n",
    "    for i in range(len(data[dataset]['GHClim']['GHtime'])//2016):\n",
    "        weekly_HumDef.append(data[dataset]['GHClim']['HumDef'][i*2016:i*2016+2016].mean())\n",
    "    plt.plot(np.arange(16), weekly_HumDef, '.', label=dataset)\n",
    "plt.xlabel('Week')\n",
    "plt.ylabel('Humidity deficit in g/m3')\n",
    "plt.legend()\n",
    "plt.show()\n",
    "\n"
   ]
  },
  {
   "cell_type": "code",
   "execution_count": 38,
   "metadata": {},
   "outputs": [
    {
     "data": {
      "text/plain": [
       "0         NaN\n",
       "1         NaN\n",
       "2        3.05\n",
       "3        3.00\n",
       "4        2.95\n",
       "         ... \n",
       "33128    1.98\n",
       "33129    1.97\n",
       "33130    1.91\n",
       "33131    1.94\n",
       "33132    1.94\n",
       "Name: HumDef, Length: 33133, dtype: float64"
      ]
     },
     "execution_count": 38,
     "metadata": {},
     "output_type": "execute_result"
    }
   ],
   "source": [
    "data[dataset]['GHClim']['HumDef']"
   ]
  },
  {
   "cell_type": "markdown",
   "metadata": {},
   "source": [
    "# Weekly average"
   ]
  },
  {
   "cell_type": "markdown",
   "metadata": {},
   "source": [
    "Like mentioned the GHtime is the timestamp per 5 minutes. Every time it changes with +- 0.0034722, this is $\\frac{1}{1440}$ of a day: 5 minutes. So the GHtime is in days. One week is 7 days, so if we would like to take the average of every week, we would need to take the average of time the GHtime, changed by 7. 1 week is 10080 minutes. So 1 week is $\\frac{10080}{5}$ timestamps, is 2016 timestamps."
   ]
  },
  {
   "cell_type": "code",
   "execution_count": null,
   "metadata": {},
   "outputs": [],
   "source": [
    "run = 'Maybe'\n",
    "while run != 'Yes' and run != 'No':\n",
    "    print('Please type Yes or No (case sensitive)')    \n",
    "    run = str(input('Would you like to divide the data in weekly data? [Yes/No]'))\n",
    "\n",
    "if run == 'Yes':\n",
    "    # Create a dictionary with weekly data to create more usuable data\n",
    "    weekly_data_per_team = dict()\n",
    "    for dataset in datasets:\n",
    "        # Add important features from greenhouse climate dataset\n",
    "        weekly_CO2, weekly_HumDef = [], []\n",
    "        for i in range(len(data[dataset]['GHClim']['GHtime'])//2016):\n",
    "            weekly_HumDef.append(data[dataset]['GHClim']['HumDef'][i*2016:i*2016+2016].mean())\n",
    "            weekly_CO2.append(data[dataset]['GHClim']['CO2air'][i*2016:i*2016+2016].mean())\n",
    "\n",
    "        # Add weekly production value (fruit number multiplied by price) \n",
    "        weekly_prodA, weekly_prodB = [], []\n",
    "        # Timestamp is per day \n",
    "        for i in range(len(data[dataset]['prod']['time'])//7):\n",
    "            weekly_prodA.append(np.mean(data[dataset]['prod']['ProdA_num'][i*7:i*7+7]))\n",
    "            weekly_prodB.append(np.mean(data[dataset]['prod']['ProdB_num'][i*7:i*7+7]))\n",
    "        weekly_data_per_team[f'{dataset}'] = {'CO2air':weekly_CO2, 'HumDef':weekly_HumDef, \n",
    "                                'prodA':weekly_prodA, 'prodB':weekly_prodB}\n",
    "    print(\"\"\"The code is succesfully runned and the weekly data \n",
    "          devided by team is now in the variable 'weekly_data_per_team'\"\"\")"
   ]
  },
  {
   "cell_type": "code",
   "execution_count": null,
   "metadata": {
    "scrolled": true
   },
   "outputs": [],
   "source": [
    "if run == 'Yes':\n",
    "    # Create a dictionary with weekly data to create more usuable data\n",
    "    weekly_CO2, weekly_HumDef = [], []\n",
    "    weekly_prodA, weekly_prodB = [], []\n",
    "    for team in datasets:\n",
    "        # Add important features from greenhouse climate dataset\n",
    "        # The first few week is not that productive. So if we devide \n",
    "        # the data in weeks it's usefull not to take the first week into account.\n",
    "        for i in range(1,len(data[team]['GHClim']['GHtime'])//2016):\n",
    "            weekly_HumDef.append(data[team]['GHClim']['HumDef'][i*2016:i*2016+2016].mean())\n",
    "            weekly_CO2.append(data[team]['GHClim']['CO2air'][i*2016:i*2016+2016].mean())\n",
    "        # Add weekly production sum (both A and B)\n",
    "        # Timestamp is per day \n",
    "        for i in range(1,len(data[team]['prod']['time'])//7):\n",
    "            weekly_prodA.append(np.mean(data[team]['prod']['ProdA_num'][i*7:i*7+7]))\n",
    "            weekly_prodB.append(np.mean(data[team]['prod']['ProdB_num'][i*7:i*7+7]))\n",
    "    weekly_data_total = {'CO2':weekly_CO2, 'HumDef':weekly_HumDef, \n",
    "                  'prodA':weekly_prodA, 'prodB':weekly_prodB}\n",
    "    print(\"\"\"The code is succesfully runned and the weekly data not\n",
    "          devided by team is now in the variable 'weekly_data_total'\"\"\")"
   ]
  },
  {
   "cell_type": "markdown",
   "metadata": {},
   "source": [
    "# Polynomial fitting\n",
    "## On weekly data"
   ]
  },
  {
   "cell_type": "code",
   "execution_count": null,
   "metadata": {},
   "outputs": [],
   "source": [
    "def polynome(params, linspace):\n",
    "    if len(params)==3:\n",
    "        a,b,c = params\n",
    "        return [a*x**2+b*x+c for x in linspace]\n",
    "    if len(params)==4:\n",
    "        a,b,c,d = params\n",
    "        return [a*x**3+b*x**2+c*x+d for x in linspace]\n",
    "    if len(params)==5:\n",
    "        a,b,c,d,e = params\n",
    "        return [a*x**4+b*x**3+c*x**2+d*x+e for x in linspace]\n",
    "    if len(params)==6:\n",
    "        a,b,c,d,e,f = params\n",
    "        return [a*x**5+b*x**4+c*x**3+d*x**2+e*x+f for x in linspace]\n",
    "    if len(params)==7:\n",
    "        a,b,c,d,e,f,g = params\n",
    "        return [a*x**6+b*x**5+c*x**4+d*x**3+e*x**2+f*x+g for x in linspace]\n",
    "    if len(params)==8:\n",
    "        a,b,c,d,e,f,g,h = params\n",
    "        return [a*x**7+b*x**6+c*x**5+d*x**4+e*x**3+f*x**2+g*x+h for x in linspace]\n",
    "    if len(params)==9:\n",
    "        a,b,c,d,e,f,g,h,i = params\n",
    "        return [a*x**8+b*x**7+c*x**6+d*x**5+e*x**4+f*x**3+g*x**2+h*x+i for x in linspace]\n",
    "\n",
    "def plot_polynome(x,y, degree, x_name, y_name):\n",
    "    plt.plot(x, y, '.g')\n",
    "    params = np.polyfit(x,y, degree)\n",
    "    plt.plot(np.linspace(min(x),max(x),1000), polynome(params, np.linspace(min(x),max(x),1000)))\n",
    "    plt.xlabel(x_name)\n",
    "    plt.ylabel(y_name)\n",
    "    plt.title(f'Polynomial fit on {x_name} vs {y_name}')\n",
    "    plt.show()\n",
    "\n",
    "# Ask for input\n",
    "degree = 0\n",
    "while not 2<=degree<=8:\n",
    "    try:\n",
    "        degree = int(input('Which degree of polynomial fitting would you like?'))\n",
    "        if not 2<=degree<=8:\n",
    "            print('Please chose an integer between 2 and 8.')\n",
    "    except ValueError:\n",
    "        print('Please chose an integer between 2 and 8.')\n",
    "if run == 'Yes':\n",
    "    for y_name in ['prodA', 'prodB']:\n",
    "        for x_name in ['CO2', 'HumDef']:\n",
    "            x, y = weekly_data_total[x_name], weekly_data_total[y_name]\n",
    "            plot_polynome(x,y, degree, x_name, y_name)\n",
    "else:\n",
    "     # Take the average of the features and the eventual production value of every team\n",
    "    plot_data = dict()\n",
    "    for category in ['ProdA_cum', 'ProdB_cum']:\n",
    "        tair, hum_def, prod = [], [], []\n",
    "        for dataset in datasets:\n",
    "            prod_df = data[dataset]['prod'][category]\n",
    "            tair.append(data[dataset]['GHClim']['Tair'].mean())\n",
    "            hum_def.append(data[dataset]['GHClim']['HumDef'].mean())\n",
    "            prod.append(prod_df[prod_df.index[-1]])\n",
    "#             plt.plot(hum_def, prod, '.', label=f'{team}:HumDef')   \n",
    "        x, y = tair, prod\n",
    "        plot_polynome(x,y, degree, 'Tair', category)\n",
    "        x, y = hum_def, prod\n",
    "        plot_polynome(x,y, degree, 'HumDef', category)"
   ]
  },
  {
   "cell_type": "markdown",
   "metadata": {},
   "source": [
    "As you can see in the following figure, according to Zheng et al. (2018) the optimal CO growth for three perennial grass species is around 900 ppm. If you fit an 3rd degree polynomial on the automonous greenhouse challenge data you will get a simulair result (see figure 2)\n",
    "![](https://media.springernature.com/full/springer-static/image/art%3A10.1186%2Fs12870-018-1243-3/MediaObjects/12870_2018_1243_Fig1_HTML.gif?as=webp)\n",
    "Figure 1: Zheng, Y., Li, F., Hao, L., Shedayi, A. A., Guo, L., Ma, C., ... & Xu, M. (2018). The optimal CO 2 concentrations for the growth of three perennial grass species. BMC plant biology, 18(1), 27.\n",
    "![](https://i.imgur.com/CDDojpD.png)\n",
    "Figure 2: Automonous greenhouse challenge data"
   ]
  }
 ],
 "metadata": {
  "kernelspec": {
   "display_name": "Python 2",
   "language": "python",
   "name": "python2"
  },
  "language_info": {
   "codemirror_mode": {
    "name": "ipython",
    "version": 3
   },
   "file_extension": ".py",
   "mimetype": "text/x-python",
   "name": "python",
   "nbconvert_exporter": "python",
   "pygments_lexer": "ipython3",
   "version": "3.7.4"
  }
 },
 "nbformat": 4,
 "nbformat_minor": 2
}
