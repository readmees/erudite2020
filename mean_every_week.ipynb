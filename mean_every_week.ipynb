{
 "cells": [
  {
   "cell_type": "markdown",
   "metadata": {},
   "source": [
    "# Import and preprocces data"
   ]
  },
  {
   "cell_type": "code",
   "execution_count": 165,
   "metadata": {},
   "outputs": [],
   "source": [
    "import pandas as pd\n",
    "import numpy as np\n",
    "import matplotlib.pyplot as plt\n",
    "from scipy.optimize import minimize as minimize"
   ]
  },
  {
   "cell_type": "code",
   "execution_count": 166,
   "metadata": {},
   "outputs": [],
   "source": [
    "teams = [\"AiCU\", \"Croperators\", \"DeepGreens\", \"iGrow\", \"Reference(Growers)\",\"Sonoma\"]\n",
    "data = {}\n",
    "for team in teams:\n",
    "    GHClim = pd.read_csv(f\"data/{team}/Greenhouse_climate.csv\") \n",
    "    Crop = pd.read_csv(f\"data/{team}/CropManagement.csv\") \n",
    "    irri = pd.read_csv(f\"data/{team}/Irrigation.csv\") \n",
    "    prod = pd.read_csv(f\"data/{team}/Production.csv\") \n",
    "    vip = pd.read_csv(f\"data/{team}/vip.csv\") \n",
    "    GHClim = GHClim.drop(['VentLee', 'Ventwind', 'AssimLight', 'BlackScr', 'EnScr'], axis=1)\n",
    "    \n",
    "    GHClim.fillna(method='ffill', inplace=True)\n",
    "    Crop.fillna(method='ffill', inplace=True)\n",
    "    irri.fillna(method='ffill', inplace=True)\n",
    "    prod.fillna(method='ffill', inplace=True)\n",
    "    vip.fillna(method='ffill', inplace=True)\n",
    "    \n",
    "    # If the last column is NaN\n",
    "    GHClim.fillna(method='ffill', inplace=True)\n",
    "    Crop.fillna(method='ffill', inplace=True)\n",
    "    irri.fillna(method='ffill', inplace=True)\n",
    "    prod.fillna(method='ffill', inplace=True)\n",
    "    vip.fillna(method='ffill', inplace=True)\n",
    "    data[team] = {'GHClim':GHClim, 'Crop':Crop, 'irri':irri, 'prod':prod, 'vip':vip}"
   ]
  },
  {
   "cell_type": "code",
   "execution_count": 167,
   "metadata": {
    "scrolled": true
   },
   "outputs": [
    {
     "data": {
      "text/html": [
       "<div>\n",
       "<style scoped>\n",
       "    .dataframe tbody tr th:only-of-type {\n",
       "        vertical-align: middle;\n",
       "    }\n",
       "\n",
       "    .dataframe tbody tr th {\n",
       "        vertical-align: top;\n",
       "    }\n",
       "\n",
       "    .dataframe thead th {\n",
       "        text-align: right;\n",
       "    }\n",
       "</style>\n",
       "<table border=\"1\" class=\"dataframe\">\n",
       "  <thead>\n",
       "    <tr style=\"text-align: right;\">\n",
       "      <th></th>\n",
       "      <th>CO2air</th>\n",
       "      <th>GHtime</th>\n",
       "      <th>HumDef</th>\n",
       "      <th>PipeGrow</th>\n",
       "      <th>PipeLow</th>\n",
       "      <th>RHair</th>\n",
       "      <th>Tair</th>\n",
       "    </tr>\n",
       "  </thead>\n",
       "  <tbody>\n",
       "    <tr>\n",
       "      <td>0</td>\n",
       "      <td>NaN</td>\n",
       "      <td>43326.000000</td>\n",
       "      <td>NaN</td>\n",
       "      <td>NaN</td>\n",
       "      <td>NaN</td>\n",
       "      <td>NaN</td>\n",
       "      <td>NaN</td>\n",
       "    </tr>\n",
       "    <tr>\n",
       "      <td>1</td>\n",
       "      <td>NaN</td>\n",
       "      <td>43326.003472</td>\n",
       "      <td>NaN</td>\n",
       "      <td>NaN</td>\n",
       "      <td>NaN</td>\n",
       "      <td>NaN</td>\n",
       "      <td>NaN</td>\n",
       "    </tr>\n",
       "    <tr>\n",
       "      <td>2</td>\n",
       "      <td>484.000000</td>\n",
       "      <td>43326.006944</td>\n",
       "      <td>2.76</td>\n",
       "      <td>0.0</td>\n",
       "      <td>0.0</td>\n",
       "      <td>84.2</td>\n",
       "      <td>20.2</td>\n",
       "    </tr>\n",
       "    <tr>\n",
       "      <td>3</td>\n",
       "      <td>479.000000</td>\n",
       "      <td>43326.010417</td>\n",
       "      <td>2.64</td>\n",
       "      <td>0.0</td>\n",
       "      <td>0.0</td>\n",
       "      <td>84.6</td>\n",
       "      <td>19.9</td>\n",
       "    </tr>\n",
       "    <tr>\n",
       "      <td>4</td>\n",
       "      <td>482.000000</td>\n",
       "      <td>43326.013889</td>\n",
       "      <td>2.60</td>\n",
       "      <td>0.0</td>\n",
       "      <td>0.0</td>\n",
       "      <td>84.8</td>\n",
       "      <td>19.9</td>\n",
       "    </tr>\n",
       "    <tr>\n",
       "      <td>...</td>\n",
       "      <td>...</td>\n",
       "      <td>...</td>\n",
       "      <td>...</td>\n",
       "      <td>...</td>\n",
       "      <td>...</td>\n",
       "      <td>...</td>\n",
       "      <td>...</td>\n",
       "    </tr>\n",
       "    <tr>\n",
       "      <td>33128</td>\n",
       "      <td>654.999994</td>\n",
       "      <td>43441.027778</td>\n",
       "      <td>3.81</td>\n",
       "      <td>0.0</td>\n",
       "      <td>37.0</td>\n",
       "      <td>81.3</td>\n",
       "      <td>22.9</td>\n",
       "    </tr>\n",
       "    <tr>\n",
       "      <td>33129</td>\n",
       "      <td>738.000000</td>\n",
       "      <td>43441.031250</td>\n",
       "      <td>3.86</td>\n",
       "      <td>0.0</td>\n",
       "      <td>37.0</td>\n",
       "      <td>81.4</td>\n",
       "      <td>23.2</td>\n",
       "    </tr>\n",
       "    <tr>\n",
       "      <td>33130</td>\n",
       "      <td>896.000005</td>\n",
       "      <td>43441.034722</td>\n",
       "      <td>3.99</td>\n",
       "      <td>0.0</td>\n",
       "      <td>35.9</td>\n",
       "      <td>81.0</td>\n",
       "      <td>23.4</td>\n",
       "    </tr>\n",
       "    <tr>\n",
       "      <td>33131</td>\n",
       "      <td>966.999990</td>\n",
       "      <td>43441.038194</td>\n",
       "      <td>4.12</td>\n",
       "      <td>0.0</td>\n",
       "      <td>35.3</td>\n",
       "      <td>80.6</td>\n",
       "      <td>23.6</td>\n",
       "    </tr>\n",
       "    <tr>\n",
       "      <td>33132</td>\n",
       "      <td>966.999990</td>\n",
       "      <td>43441.041667</td>\n",
       "      <td>4.12</td>\n",
       "      <td>0.0</td>\n",
       "      <td>35.3</td>\n",
       "      <td>80.6</td>\n",
       "      <td>23.6</td>\n",
       "    </tr>\n",
       "  </tbody>\n",
       "</table>\n",
       "<p>33133 rows × 7 columns</p>\n",
       "</div>"
      ],
      "text/plain": [
       "           CO2air        GHtime  HumDef  PipeGrow  PipeLow  RHair  Tair\n",
       "0             NaN  43326.000000     NaN       NaN      NaN    NaN   NaN\n",
       "1             NaN  43326.003472     NaN       NaN      NaN    NaN   NaN\n",
       "2      484.000000  43326.006944    2.76       0.0      0.0   84.2  20.2\n",
       "3      479.000000  43326.010417    2.64       0.0      0.0   84.6  19.9\n",
       "4      482.000000  43326.013889    2.60       0.0      0.0   84.8  19.9\n",
       "...           ...           ...     ...       ...      ...    ...   ...\n",
       "33128  654.999994  43441.027778    3.81       0.0     37.0   81.3  22.9\n",
       "33129  738.000000  43441.031250    3.86       0.0     37.0   81.4  23.2\n",
       "33130  896.000005  43441.034722    3.99       0.0     35.9   81.0  23.4\n",
       "33131  966.999990  43441.038194    4.12       0.0     35.3   80.6  23.6\n",
       "33132  966.999990  43441.041667    4.12       0.0     35.3   80.6  23.6\n",
       "\n",
       "[33133 rows x 7 columns]"
      ]
     },
     "execution_count": 167,
     "metadata": {},
     "output_type": "execute_result"
    }
   ],
   "source": [
    "data[teams[4]]['GHClim']"
   ]
  },
  {
   "cell_type": "markdown",
   "metadata": {},
   "source": [
    "# Weekly average"
   ]
  },
  {
   "cell_type": "markdown",
   "metadata": {},
   "source": [
    "Like mentioned the GHtime is the timestamp per 5 minutes. Every time it changes with +- 0.0034722, this is $\\frac{1}{1440}$ of a day: 5 minutes. So the GHtime is in days. One week is 7 days, so if we would like to take the average of every week, we would need to take the average of time the GHtime, changed by 7. 1 week is 10080 minutes. So 1 week is $\\frac{10080}{5}$ timestamps, is 2016 timestamps."
   ]
  },
  {
   "cell_type": "code",
   "execution_count": 168,
   "metadata": {},
   "outputs": [
    {
     "name": "stdout",
     "output_type": "stream",
     "text": [
      "Please type Yes or No (case sensitive)\n",
      "Would you like to divide the data in weekly data? [Yes/No]Yes\n",
      "The code is succesfully runned and the weekly data \n",
      "          devided by team is now in the variable 'weekly_data_per_team'\n"
     ]
    }
   ],
   "source": [
    "run = 'Maybe'\n",
    "while run != 'Yes' and run != 'No':\n",
    "    print('Please type Yes or No (case sensitive)')    \n",
    "    run = str(input('Would you like to divide the data in weekly data? [Yes/No]'))\n",
    "\n",
    "if run == 'Yes':\n",
    "    # Create a dictionary with weekly data to create more usuable data\n",
    "    weekly_data_per_team = dict()\n",
    "    for team in teams:\n",
    "        # Add important features from greenhouse climate dataset\n",
    "        weekly_CO2, weekly_HumDef = [], []\n",
    "        for i in range(len(data[team]['GHClim']['GHtime'])//2016):\n",
    "            weekly_HumDef.append(data[team]['GHClim']['HumDef'][i*2016:i*2016+2016].mean())\n",
    "            weekly_CO2.append(data[team]['GHClim']['CO2air'][i*2016:i*2016+2016].mean())\n",
    "\n",
    "        # Add weekly production value (fruit number multiplied by price) \n",
    "        weekly_prodA, weekly_prodB = [], []\n",
    "        # Timestamp is per day \n",
    "        for i in range(len(data[team]['prod']['time'])//7):\n",
    "            weekly_prodA.append(np.mean(data[team]['prod']['ProdA_num'][i*7:i*7+7]))\n",
    "            weekly_prodB.append(np.mean(data[team]['prod']['ProdB_num'][i*7:i*7+7]))\n",
    "        weekly_data_per_team[f'{team}'] = {'CO2air':weekly_CO2, 'HumDef':weekly_HumDef, \n",
    "                                'prodA':weekly_prodA, 'prodB':weekly_prodB}\n",
    "    print(\"\"\"The code is succesfully runned and the weekly data \n",
    "          devided by team is now in the variable 'weekly_data_per_team'\"\"\")"
   ]
  },
  {
   "cell_type": "code",
   "execution_count": 169,
   "metadata": {
    "scrolled": false
   },
   "outputs": [
    {
     "name": "stdout",
     "output_type": "stream",
     "text": [
      "The code is succesfully runned and the weekly data not\n",
      "          devided by team is now in the variable 'weekly_data_total'\n"
     ]
    }
   ],
   "source": [
    "if run == 'Yes':\n",
    "    # Create a dictionary with weekly data to create more usuable data\n",
    "    weekly_CO2, weekly_HumDef = [], []\n",
    "    weekly_prodA, weekly_prodB = [], []\n",
    "    for team in teams:\n",
    "        # Add important features from greenhouse climate dataset\n",
    "\n",
    "        for i in range(len(data[team]['GHClim']['GHtime'])//2016):\n",
    "            weekly_HumDef.append(data[team]['GHClim']['HumDef'][i*2016:i*2016+2016].mean())\n",
    "            weekly_CO2.append(data[team]['GHClim']['CO2air'][i*2016:i*2016+2016].mean())\n",
    "\n",
    "        # Add weekly production value (fruit number multiplied by price) \n",
    "\n",
    "        # Timestamp is per day \n",
    "        for i in range(len(data[team]['prod']['time'])//7):\n",
    "            weekly_prodA.append(np.mean(data[team]['prod']['ProdA_num'][i*7:i*7+7]))\n",
    "            weekly_prodB.append(np.mean(data[team]['prod']['ProdB_num'][i*7:i*7+7]))\n",
    "    weekly_data_total = {'CO2':weekly_CO2, 'HumDef':weekly_HumDef, \n",
    "                  'prodA':weekly_prodA, 'prodB':weekly_prodB}\n",
    "    print(\"\"\"The code is succesfully runned and the weekly data not\n",
    "          devided by team is now in the variable 'weekly_data_total'\"\"\")\n",
    "else:\n",
    "    # Take the average of the features and the eventual production value of every team\n",
    "    tair, hum_def, prod = [], [], []\n",
    "    category = 'ProdA_cum'\n",
    "    for team in teams:\n",
    "#         for category in ['ProdA_cum', 'ProdB_cum']:\n",
    "        prod_df = data[team]['prod'][category]\n",
    "        tair.append(data[team]['GHClim']['Tair'].mean())\n",
    "        hum_def.append(data[team]['GHClim']['HumDef'].mean())\n",
    "        prod.append(prod_df[prod_df.index[-1]])\n",
    "        plt.plot(hum_def, prod, '.', label=f'{team}:HumDef')   "
   ]
  },
  {
   "cell_type": "markdown",
   "metadata": {},
   "source": [
    "# Polynomial fitting\n",
    "## On weekly data"
   ]
  },
  {
   "cell_type": "code",
   "execution_count": 170,
   "metadata": {},
   "outputs": [
    {
     "name": "stdout",
     "output_type": "stream",
     "text": [
      "Which degree of polynomial fitting would you like?2\n"
     ]
    },
    {
     "data": {
      "image/png": "[encoded data removed]",
      "text/plain": [
       "<Figure size 432x288 with 1 Axes>"
      ]
     },
     "metadata": {
      "needs_background": "light"
     },
     "output_type": "display_data"
    },
    {
     "data": {
      "image/png": "[encoded data removed]",
      "text/plain": [
       "<Figure size 432x288 with 1 Axes>"
      ]
     },
     "metadata": {
      "needs_background": "light"
     },
     "output_type": "display_data"
    },
    {
     "data": {
      "image/png": "[encoded data removed]",
      "text/plain": [
       "<Figure size 432x288 with 1 Axes>"
      ]
     },
     "metadata": {
      "needs_background": "light"
     },
     "output_type": "display_data"
    },
    {
     "data": {
      "image/png": "[encoded data removed]",
      "text/plain": [
       "<Figure size 432x288 with 1 Axes>"
      ]
     },
     "metadata": {
      "needs_background": "light"
     },
     "output_type": "display_data"
    }
   ],
   "source": [
    "def polynome(params, linspace):\n",
    "    if len(params)==3:\n",
    "        a,b,c = params\n",
    "        return [a*i**2+b*i+c for i in linspace]\n",
    "    if len(params)==4:\n",
    "        a,b,c,d = params\n",
    "        return [a*i**3+b*i**2+c*i+d for i in linspace]\n",
    "    if len(params)==5:\n",
    "        a,b,c,d,e = params\n",
    "        return [a*i**4+b*i**3+c*i**2+d*i+e for i in linspace]\n",
    "    if len(params)==6:\n",
    "        a,b,c,d,e,f = params\n",
    "        return [a*i**5+b*i**4+c*i**3+d*i**2+e*i+f for i in linspace]\n",
    "    if len(params)==7:\n",
    "        a,b,c,d,e,f,g = params\n",
    "        return [a*i**6+b*i**5+c*i**4+d*i**3+e*i**2+f*i+g for i in linspace]\n",
    "\n",
    "\n",
    "# Ask for input\n",
    "degree = 0\n",
    "while not 2<=degree<=6:\n",
    "    try:\n",
    "        degree = int(input('Which degree of polynomial fitting would you like?'))\n",
    "        if not 2<=degree<=6:\n",
    "            print('Please chose an integer between 2 and 6')\n",
    "    except ValueError:\n",
    "        print('Please chose an integer between 2 and 6.')\n",
    "if run == 'Yes':\n",
    "    for x_name in ['prodA', 'prodB']:\n",
    "        for y_name in ['CO2', 'HumDef']:\n",
    "            x, y = weekly_data_total[x_name], weekly_data_total[y_name]\n",
    "            plt.plot(x, y, '.g')\n",
    "            params = np.polyfit(x,y, degree)\n",
    "            plt.plot(np.linspace(min(x),max(x),1000), polynome(params, np.linspace(min(x),max(x),1000)))\n",
    "            plt.xlabel(x_name)\n",
    "            plt.ylabel(y_name)\n",
    "            plt.title(f'Polynomial fit on {x_name} vs {y_name}')\n",
    "            plt.show()\n",
    "else:\n",
    "    \n",
    "#     plt.plot(tair, prod, '.', label=f'{team}Tair')\n",
    "    plt.ylabel(\"Production\")\n",
    "    plt.xlabel(\"Features\")\n",
    "    plt.legend()\n",
    "    plt.show()"
   ]
  }
 ],
 "metadata": {
  "kernelspec": {
   "display_name": "Python 2",
   "language": "python",
   "name": "python2"
  },
  "language_info": {
   "codemirror_mode": {
    "name": "ipython",
    "version": 3
   },
   "file_extension": ".py",
   "mimetype": "text/x-python",
   "name": "python",
   "nbconvert_exporter": "python",
   "pygments_lexer": "ipython3",
   "version": "3.7.4"
  }
 },
 "nbformat": 4,
 "nbformat_minor": 2
}
