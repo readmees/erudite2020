{
 "cells": [
  {
   "cell_type": "markdown",
   "metadata": {},
   "source": [
    "# Data analysis"
   ]
  },
  {
   "cell_type": "code",
   "execution_count": 3,
   "metadata": {
    "scrolled": true
   },
   "outputs": [],
   "source": [
    "import pandas as pd"
   ]
  },
  {
   "cell_type": "markdown",
   "metadata": {},
   "source": [
    "### AiCU"
   ]
  },
  {
   "cell_type": "code",
   "execution_count": 6,
   "metadata": {
    "scrolled": false
   },
   "outputs": [],
   "source": [
    "aicu1 = pd.read_csv(\"AiCU/CropManagement.csv\")\n",
    "aicu2 = pd.read_csv(\"AiCU/Greenhouse_climate.csv\")\n",
    "aicu3 = pd.read_csv(\"AiCU/Irrigation.csv\")\n",
    "aicu4 = pd.read_csv(\"AiCU/Production.csv\")\n",
    "aicu5 = pd.read_csv(\"AiCU/ResourceCalculations.csv\")\n",
    "aicu6 = pd.read_csv(\"AiCU/vip.csv\")"
   ]
  },
  {
   "cell_type": "markdown",
   "metadata": {},
   "source": [
    "### Croperators"
   ]
  },
  {
   "cell_type": "code",
   "execution_count": 7,
   "metadata": {},
   "outputs": [],
   "source": [
    "crop1 = pd.read_csv(\"Croperators/CropManagement.csv\")\n",
    "crop2 = pd.read_csv(\"Croperators/Greenhouse_climate.csv\")\n",
    "crop3 = pd.read_csv(\"Croperators/Irrigation.csv\")\n",
    "crop4 = pd.read_csv(\"Croperators/Production.csv\")\n",
    "crop5 = pd.read_csv(\"Croperators/ResourceCalculations.csv\")\n",
    "crop6 = pd.read_csv(\"Croperators/vip.csv\")"
   ]
  },
  {
   "cell_type": "markdown",
   "metadata": {},
   "source": [
    "### DeepGreens"
   ]
  },
  {
   "cell_type": "code",
   "execution_count": 9,
   "metadata": {},
   "outputs": [],
   "source": [
    "dg1 = pd.read_csv(\"DeepGreens/CropManagement.csv\")\n",
    "dg2 = pd.read_csv(\"DeepGreens/Greenhouse_climate.csv\")\n",
    "dg3 = pd.read_csv(\"DeepGreens/Irrigation.csv\")\n",
    "dg4 = pd.read_csv(\"DeepGreens/Production.csv\")\n",
    "dg5 = pd.read_csv(\"DeepGreens/ResourceCalculations.csv\")\n",
    "dg6 = pd.read_csv(\"DeepGreens/vip.csv\")"
   ]
  },
  {
   "cell_type": "markdown",
   "metadata": {},
   "source": [
    "### iGrow"
   ]
  },
  {
   "cell_type": "code",
   "execution_count": 11,
   "metadata": {},
   "outputs": [],
   "source": [
    "igrow1 = pd.read_csv(\"iGrow/CropManagement.csv\")\n",
    "igrow2 = pd.read_csv(\"iGrow/Greenhouse_climate.csv\")\n",
    "igrow3 = pd.read_csv(\"iGrow/Irrigation.csv\")\n",
    "igrow4 = pd.read_csv(\"iGrow/Production.csv\")\n",
    "igrow5 = pd.read_csv(\"iGrow/ResourceCalculations.csv\")\n",
    "igrow6 = pd.read_csv(\"iGrow/vip.csv\")"
   ]
  },
  {
   "cell_type": "markdown",
   "metadata": {},
   "source": [
    "### Reference (Growers)"
   ]
  },
  {
   "cell_type": "code",
   "execution_count": 13,
   "metadata": {},
   "outputs": [],
   "source": [
    "grow1 = pd.read_csv(\"Reference(Growers)/CropManagement.csv\")\n",
    "grow2 = pd.read_csv(\"Reference(Growers)/Greenhouse_climate.csv\")\n",
    "grow3 = pd.read_csv(\"Reference(Growers)/Irrigation.csv\")\n",
    "grow4 = pd.read_csv(\"Reference(Growers)/Production.csv\")\n",
    "grow5 = pd.read_csv(\"Reference(Growers)/ResourceCalculations.csv\")\n",
    "grow6 = pd.read_csv(\"Reference(Growers)/vip.csv\")"
   ]
  },
  {
   "cell_type": "markdown",
   "metadata": {},
   "source": [
    "### Sonoma"
   ]
  },
  {
   "cell_type": "code",
   "execution_count": 15,
   "metadata": {},
   "outputs": [],
   "source": [
    "sonoma1 = pd.read_csv(\"Sonoma/CropManagement.csv\")\n",
    "sonoma2= pd.read_csv(\"Sonoma/Greenhouse_climate.csv\")\n",
    "sonoma3 = pd.read_csv(\"Sonoma/Irrigation.csv\")\n",
    "sonoma4 = pd.read_csv(\"Sonoma/Production.csv\")\n",
    "sonoma5 = pd.read_csv(\"Sonoma/ResourceCalculations.csv\")\n",
    "sonoma6 = pd.read_csv(\"Sonoma/vip.csv\")"
   ]
  }
 ],
 "metadata": {
  "kernelspec": {
   "display_name": "Python 3",
   "language": "python",
   "name": "python3"
  },
  "language_info": {
   "codemirror_mode": {
    "name": "ipython",
    "version": 3
   },
   "file_extension": ".py",
   "mimetype": "text/x-python",
   "name": "python",
   "nbconvert_exporter": "python",
   "pygments_lexer": "ipython3",
   "version": "3.7.4"
  }
 },
 "nbformat": 4,
 "nbformat_minor": 2
}
